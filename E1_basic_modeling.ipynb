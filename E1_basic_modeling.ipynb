{
 "cells": [
  {
   "cell_type": "code",
   "execution_count": 18,
   "metadata": {
    "id": "mQrg5042121f"
   },
   "outputs": [],
   "source": [
    "# Imports\n",
    "!pip install cpmpy numpy --quiet\n",
    "\n",
    "import cpmpy as cp\n",
    "import numpy as np"
   ]
  },
  {
   "cell_type": "markdown",
   "metadata": {
    "id": "A5WpxH1woeAP"
   },
   "source": [
    "(You can ignore google* and tensor* dependency errors on Google Colab.)\n",
    "\n",
    "## **Session 1: Introduction to CPMpy and Basic Modelling**\n",
    "\n",
    "In this session, we will be introducing you to constraint programming using the CPMpy framework and working through some modelling exercises. The goal is to help you become familiar with how to formulate/model combinatorial problems using CPMpy.\n",
    "\n",
    "<!-- <strong>Plan for the session:</strong>\n",
    "- Introductory Talk (~20 minutes): Introduction to CPMpy, constraint programming, and how combinatorial problems can be represented as models.\n",
    "- Hands-on Exercises (~2 hours): Practice modelling problems using CPMpy through a series of guided exercises. -->\n",
    "\n",
    "\n",
    "<strong>If in doubt, quickly check the summary sheet:</strong>\n",
    "* CPMpy summary sheet: https://cpmpy.readthedocs.io/en/latest/summary.html\n",
    "\n",
    "<strong>If things are unclear, check the extensive modeling guide:</strong>\n",
    "\n",
    "* CPMpy modeling documentation: https://cpmpy.readthedocs.io/en/latest/modeling.html"
   ]
  },
  {
   "cell_type": "markdown",
   "metadata": {
    "id": "VopstlxXz0pW"
   },
   "source": [
    "### **Part 1: Short Introduction**"
   ]
  },
  {
   "cell_type": "markdown",
   "metadata": {
    "id": "s54dxflc0J5H"
   },
   "source": [
    "#### **What is Constraint Programming (CP)?**\n",
    "\n",
    "Constraint Programming is a **declarative paradigm** for solving **combinatorial problems**. In CP, a problem is modelled by defining:\n",
    "\n",
    "- **Decision Variables**: They represent the solution, as entities that their values need to be determined.\n",
    "- **Domains**: The set of possible values for the decision variables.\n",
    "- **Constraints**: Relationships between variables restricting their possible values.\n",
    "- **Objective (Optional)**: If the problem includes an optimisation objective, we can define an objective to minimize or maximize.\n",
    "\n",
    "CP allows you to focus on **what** needs to be satisfied, without specifying **how** to solve the problem."
   ]
  },
  {
   "cell_type": "markdown",
   "metadata": {
    "id": "Q6lKs2h10X3p"
   },
   "source": [
    "#### **Imperative vs Declarative Programming**\n",
    "\n",
    "To understand the difference between imperative and declarative programming, let's take a simple example:\n",
    "\n",
    "We have two variables `x` and `y`, and we want to find their values such that:\n",
    "- Their sum is equal to 7.\n",
    "- `x` is greater than `y`."
   ]
  },
  {
   "cell_type": "code",
   "execution_count": 19,
   "metadata": {
    "id": "ggNNq5EK1Xk3"
   },
   "outputs": [
    {
     "name": "stdout",
     "output_type": "stream",
     "text": [
      "Imperative Approach: We explicitly assign the variables to specific values: x=0 and y=0\n",
      "... and we explicitly reassign it until we find the solution:\n",
      "x = 0, y = 0\n",
      "x = 0, y = 1\n",
      "x = 0, y = 2\n",
      "x = 0, y = 3\n",
      "x = 0, y = 4\n",
      "x = 0, y = 5\n",
      "x = 0, y = 6\n",
      "x = 0, y = 7\n",
      "x = 0, y = 8\n",
      "x = 0, y = 9\n",
      "x = 1, y = 0\n",
      "x = 1, y = 1\n",
      "x = 1, y = 2\n",
      "x = 1, y = 3\n",
      "x = 1, y = 4\n",
      "x = 1, y = 5\n",
      "x = 1, y = 6\n",
      "x = 1, y = 7\n",
      "x = 1, y = 8\n",
      "x = 1, y = 9\n",
      "x = 2, y = 0\n",
      "x = 2, y = 1\n",
      "x = 2, y = 2\n",
      "x = 2, y = 3\n",
      "x = 2, y = 4\n",
      "x = 2, y = 5\n",
      "x = 2, y = 6\n",
      "x = 2, y = 7\n",
      "x = 2, y = 8\n",
      "x = 2, y = 9\n",
      "x = 3, y = 0\n",
      "x = 3, y = 1\n",
      "x = 3, y = 2\n",
      "x = 3, y = 3\n",
      "x = 3, y = 4\n",
      "x = 3, y = 5\n",
      "x = 3, y = 6\n",
      "x = 3, y = 7\n",
      "x = 3, y = 8\n",
      "x = 3, y = 9\n",
      "x = 4, y = 0\n",
      "x = 4, y = 1\n",
      "x = 4, y = 2\n",
      "x = 4, y = 3\n",
      "\n",
      "Solution found: x = 4, y = 3\n"
     ]
    }
   ],
   "source": [
    "# Imperative\n",
    "x, y = 0, 0\n",
    "\n",
    "print(f\"Imperative Approach: We explicitly assign the variables to specific values: x={x} and y={y}\")\n",
    "\n",
    "print(\"... and we explicitly reassign it until we find the solution:\")\n",
    "found = False\n",
    "for x in range(10):\n",
    "    for y in range(10):\n",
    "        print(f\"x = {x}, y = {y}\")\n",
    "        if x + y == 7 and x > y:\n",
    "            print(f\"\\nSolution found: x = {x}, y = {y}\")\n",
    "            found = True\n",
    "            break\n",
    "    if found:\n",
    "        break"
   ]
  },
  {
   "cell_type": "code",
   "execution_count": 20,
   "metadata": {
    "id": "ukBLsSzo10LN"
   },
   "outputs": [
    {
     "name": "stdout",
     "output_type": "stream",
     "text": [
      "Declarative Approach: We define the variables x=IV168 and y=IV169.\n",
      "Notice that we don't explicitly set/assign any values to the variables. We simply define their domains (sets of possible values).\n",
      "\n",
      "... and we model the problem declaratively (i.e. we do not specify how to find the correct assignment, but what the correct assignment should satisfy):\n",
      "\n",
      "Constraints:\n",
      "    (IV168) + (IV169) == 7\n",
      "    (IV168) > (IV169)\n",
      "Objective: None\n",
      "\n",
      "... and we solve the problem:\n",
      "\n",
      "Solution: x = 4, y = 3\n"
     ]
    }
   ],
   "source": [
    "# Declarative\n",
    "\n",
    "# Define decision variables with domains\n",
    "x, y = cp.intvar(0, 10, shape=2)\n",
    "\n",
    "print(f\"Declarative Approach: We define the variables x={x} and y={y}.\")\n",
    "print(\"Notice that we don't explicitly set/assign any values to the variables. We simply define their domains (sets of possible values).\")\n",
    "\n",
    "print(\"\\n... and we model the problem declaratively (i.e. we do not specify how to find the correct assignment, but what the correct assignment should satisfy):\\n\")\n",
    "\n",
    "# Model the constraints\n",
    "model = cp.Model([\n",
    "    x + y == 7,  # Their sum is 7\n",
    "    x > y         # x is greater than y\n",
    "])\n",
    "\n",
    "print(model)\n",
    "\n",
    "# Solve the model\n",
    "print(\"\\n... and we solve the problem:\\n\")\n",
    "model.solve()\n",
    "\n",
    "print(f\"Solution: x = {x.value()}, y = {y.value()}\")"
   ]
  },
  {
   "cell_type": "markdown",
   "metadata": {
    "id": "R4rvyRqo02w5"
   },
   "source": [
    "#### **What is CPMpy?**\n",
    "CPMpy is a Constraint Programming library in Python, for **modelling** and **solving** combinatorial problems.\n",
    "\n",
    "**Basic Model Structure**:\n",
    "1. **Decision Variables**: Defined with `intvar()` for integers or `boolvar()` for booleans.\n",
    "2. **Constraints**: Applied on variables using comparison operators (`==`, `!=`, `<`, `<=`, etc.) or [global constraints](https://cpmpy.readthedocs.io/en/latest/modeling.html#global-constraints) like `AllDifferent`.\n",
    "3. **Solving**: Use `solve()` to find a solution."
   ]
  },
  {
   "cell_type": "markdown",
   "metadata": {
    "id": "6pSp6Cbbsrkb"
   },
   "source": [
    "#### **A Practical Example**\n",
    "\n",
    "We need to solve a Sudoku puzzle. The goal of Sudoku is to fill a 9x9 grid with numbers so that each row, column and 3x3 section contain all the digits\n",
    "between 1 and 9.\n",
    "The given unsolved grid is the following:\n",
    "\n",
    "```\n",
    "[  \n",
    "    [0, 0, 0,  2, 0, 5,  0, 0, 0],\n",
    "    [0, 9, 0,  0, 0, 0,  7, 3, 0],\n",
    "    [0, 0, 2,  0, 0, 9,  0, 6, 0],\n",
    "\n",
    "    [2, 0, 0,  0, 0, 0,  4, 0, 9],\n",
    "    [0, 0, 0,  0, 7, 0,  0, 0, 0],\n",
    "    [6, 0, 9,  0, 0, 0,  0, 0, 1],\n",
    "\n",
    "    [0, 8, 0,  4, 0, 0,  1, 0, 0],\n",
    "    [0, 6, 3,  0, 0, 0,  0, 8, 0],\n",
    "    [0, 0, 0,  6, 0, 8,  0, 0, 0]\n",
    "]\n",
    "```\n",
    "\n",
    "The goal is to replace the 0s with acceptable numbers. How to obtain a solution?"
   ]
  },
  {
   "cell_type": "code",
   "execution_count": 21,
   "metadata": {
    "id": "n1PoEUaK1qJn"
   },
   "outputs": [
    {
     "name": "stdout",
     "output_type": "stream",
     "text": [
      "[[3 7 8 2 6 5 9 1 4]\n",
      " [5 9 6 8 1 4 7 3 2]\n",
      " [1 4 2 7 3 9 5 6 8]\n",
      " [2 1 7 3 8 6 4 5 9]\n",
      " [8 5 4 9 7 1 6 2 3]\n",
      " [6 3 9 5 4 2 8 7 1]\n",
      " [7 8 5 4 2 3 1 9 6]\n",
      " [4 6 3 1 9 7 2 8 5]\n",
      " [9 2 1 6 5 8 3 4 7]]\n"
     ]
    }
   ],
   "source": [
    "# Data\n",
    "input_grid = [  # 0 represents empty cells\n",
    "    [0, 0, 0,  2, 0, 5,  0, 0, 0],\n",
    "    [0, 9, 0,  0, 0, 0,  7, 3, 0],\n",
    "    [0, 0, 2,  0, 0, 9,  0, 6, 0],\n",
    "\n",
    "    [2, 0, 0,  0, 0, 0,  4, 0, 9],\n",
    "    [0, 0, 0,  0, 7, 0,  0, 0, 0],\n",
    "    [6, 0, 9,  0, 0, 0,  0, 0, 1],\n",
    "\n",
    "    [0, 8, 0,  4, 0, 0,  1, 0, 0],\n",
    "    [0, 6, 3,  0, 0, 0,  0, 8, 0],\n",
    "    [0, 0, 0,  6, 0, 8,  0, 0, 0]]\n",
    "given = np.array(input_grid)  # numpy array for easy indexing\n",
    "\n",
    "# Decision Variables\n",
    "grid = cp.intvar(1, 9, shape=given.shape)  # Each cell can have a value between 1 and 9\n",
    "\n",
    "# Model\n",
    "model = cp.Model()\n",
    "\n",
    "# Fix the non-zero cells to the given values\n",
    "model.add(grid[given != 0] == given[given != 0])  # numpy's indexing\n",
    "\n",
    "# No duplicate number in a row, for all rows\n",
    "model.add([cp.AllDifferent(row) for row in grid])\n",
    "# No duplicate number in a column, for all columns\n",
    "model.add([cp.AllDifferent(col) for col in grid.T])  # numpy's transpose\n",
    "\n",
    "# No duplicate number in a block, for all blocks\n",
    "for i in range(0, 9, 3):\n",
    "    for j in range(0, 9, 3):\n",
    "        model.add(cp.AllDifferent(grid[i:i+3, j:j+3]))\n",
    "\n",
    "# For block constraints: Alternative way with list comprehension\n",
    "model.add([cp.AllDifferent(grid[i:i+3, j:j+3]) for i in range(0, 9, 3) for j in range(0, 9, 3)])\n",
    "\n",
    "# Solve\n",
    "model.solve()\n",
    "\n",
    "# Print solution\n",
    "print(grid.value())"
   ]
  },
  {
   "cell_type": "markdown",
   "metadata": {
    "id": "4DTL7joVvEPY"
   },
   "source": [
    "### **Part 2: Exercises**"
   ]
  },
  {
   "cell_type": "markdown",
   "metadata": {
    "id": "eF9-JSORo7iP"
   },
   "source": [
    "#### **1. Five Floors Problem**\n",
    "\n",
    "Baker, Cooper, Fletcher, Miller, and Smith live on the first five floors of an apartment house.\n",
    "Baker does not live on the fifth floor.\n",
    "Cooper does not live on the first floor.\n",
    "Fletcher does not live on either the fifth or the first floor.\n",
    "Miller lives on a higher floor than does Cooper.\n",
    "Smith does not live on a floor adjacent to Fletcher's.\n",
    "Fletcher does not live on a floor adjacent to Cooper's.\n",
    "They all live on different floors.\n",
    "Find the floors where these people live."
   ]
  },
  {
   "cell_type": "code",
   "execution_count": 22,
   "metadata": {
    "id": "nc5oUhIYoaup"
   },
   "outputs": [
    {
     "name": "stdout",
     "output_type": "stream",
     "text": [
      "Baker lives on floor 3\n",
      "Cooper lives on floor 2\n",
      "Fletcher lives on floor 4\n",
      "Miller lives on floor 5\n",
      "Smith lives on floor 1\n"
     ]
    }
   ],
   "source": [
    "# Decision Variables\n",
    "\"\"\"\n",
    "TODO: Fill in the lower and upper bounds of the decision variables.\n",
    "\n",
    "Hints:\n",
    "- What are the possible values for each variable?\n",
    "- Which are the possible floors for each person?\n",
    "\n",
    "https://cpmpy.readthedocs.io/en/latest/modeling.html#decision-variables\n",
    "\"\"\"\n",
    "lb = 1  # lower bound\n",
    "ub = 5  # upper bound\n",
    "\n",
    "B = cp.intvar(lb, ub)  # Baker\n",
    "C = cp.intvar(lb, ub)  # Cooper\n",
    "F = cp.intvar(lb, ub)  # Fletcher\n",
    "M = cp.intvar(lb, ub)  # Miller\n",
    "S = cp.intvar(lb, ub)  # Smith\n",
    "\n",
    "# Since all the decision variables have the same domain, we can also use a more convenient way to define them:\n",
    "B, C, F, M, S = floors = cp.intvar(lb, ub, shape=5)\n",
    "\n",
    "# Model\n",
    "model = cp.Model()\n",
    "\n",
    "# Constraints\n",
    "\"\"\"\n",
    "TODO: Fill in the constraints according to the problem description.\n",
    "\n",
    "Hints:\n",
    "1. https://cpmpy.readthedocs.io/en/latest/modeling.html#logical-constraints\n",
    "2. https://cpmpy.readthedocs.io/en/latest/modeling.html#simple-comparison-constraints\n",
    "3. https://cpmpy.readthedocs.io/en/latest/modeling.html#arithmetic-constraints\n",
    "4. https://cpmpy.readthedocs.io/en/latest/modeling.html#global-constraints\n",
    "\"\"\"\n",
    "model.add(B != 5)  # Baker does not live on the fifth floor\n",
    "model.add(C != 1)  # Cooper does not live on the first floor\n",
    "model.add((F!=1) & (F!=5))  # Fletcher does not live on either the fifth or the first floor\n",
    "model.add(M > C)  # Miller lives on a higher floor than does Cooper\n",
    "model.add(cp.abs(S - F) > 1)  # Smith does not live on a floor adjacent to Fletcher\n",
    "model.add(cp.abs(F - C) > 1)  # Fletcher does not live on a floor adjacent to Cooper\n",
    "model.add(cp.AllDifferent(floors))  # They all live on different floors\n",
    "\n",
    "# Solve\n",
    "model.solve()\n",
    "\n",
    "# Print solution\n",
    "print(f'Baker lives on floor {B.value()}')\n",
    "print(f'Cooper lives on floor {C.value()}')\n",
    "print(f'Fletcher lives on floor {F.value()}')\n",
    "print(f'Miller lives on floor {M.value()}')\n",
    "print(f'Smith lives on floor {S.value()}')"
   ]
  },
  {
   "cell_type": "markdown",
   "metadata": {
    "id": "xq0mWaKQ2E-y"
   },
   "source": [
    "#### **2. Bank Card**\n",
    "\n",
    "My bank card has a 4 digit PIN, abcd. I use the following facts to help me remember it:\n",
    "\n",
    "- no two digits are the same\n",
    "- the 2-digit number cd is 3 times the 2-digit number ab\n",
    "- the 2-digit number da is 2 times the 2-digit number bc\n",
    "\n",
    "What is my PIN?"
   ]
  },
  {
   "cell_type": "code",
   "execution_count": 23,
   "metadata": {
    "id": "67fUjx6F3SAL"
   },
   "outputs": [
    {
     "name": "stdout",
     "output_type": "stream",
     "text": [
      "PIN: 2163\n"
     ]
    }
   ],
   "source": [
    "# Decision Variables\n",
    "\"\"\"\n",
    "TODO: Fill in the lower and upper bound of each digit.\n",
    "What are the possible values (domain) of each digit?\n",
    "\"\"\"\n",
    "lb, ub = 1, 9  # lower bound and upper bound\n",
    "\n",
    "a, b, c, d = digits = cp.intvar(lb, ub, shape=4)  # The four digits of the PIN\n",
    "\n",
    "# Model\n",
    "model = cp.Model()\n",
    "\n",
    "# Constraints\n",
    "\"\"\"\n",
    "TODO: Fill in the constraints according to the problem description.\n",
    "\"\"\"\n",
    "model.add(cp.AllDifferent(digits))  # no two digits are the same\n",
    "model.add((c*10+d) == (3*(a*10+b)))  # cd is 3 times ab\n",
    "model.add((d*10+a) == (2*(10*b+c)))  # da is 2 times bc\n",
    "\n",
    "# Solve\n",
    "model.solve()\n",
    "\n",
    "# Print solution\n",
    "print(f\"PIN: {a.value()}{b.value()}{c.value()}{d.value()}\")"
   ]
  },
  {
   "cell_type": "markdown",
   "metadata": {
    "id": "HvOVGuFqDSR1"
   },
   "source": [
    "#### **3. Coin Change**\n",
    "\n",
    "Alice needs to give Bob exactly 1.99 euros in change. She has six different types of coins with the following values: 1, 2, 5, 10, 25, and 50 cents. However, she only has a limited number of each coin type: 20 coins of 1 cent, 10 coins of 2 cents, 15 coins of 5 cents, 8 coins of 10 cents, 4 coins of 25 cents, and 2 coins of 50 cents.\n",
    "\n",
    "How can Alice give Bob the exact change using the **fewest number of coins possible** while respecting the availability of each coin type?"
   ]
  },
  {
   "cell_type": "code",
   "execution_count": 24,
   "metadata": {
    "id": "6OPfImfQDiEV"
   },
   "outputs": [
    {
     "name": "stdout",
     "output_type": "stream",
     "text": [
      "0/20 coins of 1 cent(s) -> 0 cents \t(curent total = 0)\n",
      "2/10 coins of 2 cent(s) -> 4 cents \t(curent total = 4)\n",
      "0/15 coins of 5 cent(s) -> 0 cents \t(curent total = 4)\n",
      "2/8 coins of 10 cent(s) -> 20 cents \t(curent total = 24)\n",
      "3/4 coins of 25 cent(s) -> 75 cents \t(curent total = 99)\n",
      "2/2 coins of 50 cent(s) -> 100 cents \t(curent total = 199)\n",
      "9/59 coins used\n"
     ]
    }
   ],
   "source": [
    "# Parameters of the problem\n",
    "amount = 199  # in cents\n",
    "coin_types = np.array([1, 2, 5, 10, 25, 50])\n",
    "available_coins = [20, 10, 15, 8, 4, 2]\n",
    "\n",
    "# Decision Variables - TODO\n",
    "B, C, F, M, S = floors = cp.intvar(lb, ub, shape=5)\n",
    "coin1, coin2, coin5, coin10, coin25, coin50 = coin_counts = [cp.intvar(0, x, shape=1) for x in available_coins]\n",
    "\n",
    "\n",
    "# Model\n",
    "model = cp.Model()\n",
    "\n",
    "# Constraints - TODO\n",
    "model.add( (coin_counts @ coin_types.transpose()) == 199) # is this valid?\n",
    "\n",
    "\n",
    "# Objective: Minimize the number of coins - TODO\n",
    "model.minimize(np.sum(coin_counts)) # is this valid?\n",
    "\n",
    "# Solve\n",
    "model.solve()\n",
    "\n",
    "# Print solution - TODO\n",
    "current_total = 0\n",
    "coins_used = 0\n",
    "for value, count, avail in zip(coin_types, coin_counts, available_coins):\n",
    "    current_total += count.value()* value\n",
    "    coins_used += count.value()\n",
    "    print( f\"{count.value()}/{avail} coins of {value} cent(s) -> {count.value()* value} cents \\t(curent total = {current_total})\")\n",
    "print( f\"{coins_used}/{sum(available_coins)} coins used\" )\n"
   ]
  },
  {
   "cell_type": "markdown",
   "metadata": {
    "id": "uF9JlRVw5mae"
   },
   "source": [
    "#### **4. Magic Square**\n",
    "\n",
    "A magic square is an $n \\times n$ grid such that each cell contains a different integer from 1 to $n^2$ and the sum of the integers in each row, column and diagonal is equal.\n",
    "Find a magic square for any size $n$, knowing that the sum of each row, column and diagonal has to be equal to $n(n^2 + 1)/2$ (an integer: div\n",
    "operator). Remember there is no magic square for size 2."
   ]
  },
  {
   "cell_type": "markdown",
   "metadata": {
    "id": "2wGkkey2en4a"
   },
   "source": [
    "<details>\n",
    "  <summary>Click to reveal hint</summary>\n",
    "  \n",
    "```\n",
    "\"\"\"\n",
    "An example to show how to use indexing for diagonals in matrices.\n",
    "\n",
    "Suppose that we have a grid of integers, and we require every number in the main\n",
    "diagonal to be different, and also every number in the secondary diagonal to be\n",
    "different.\n",
    "\"\"\"\n",
    "\n",
    "# Parameters\n",
    "n = 50\n",
    "\n",
    "# Decision Variables\n",
    "grid = cp.intvar(0, n, shape=(n, n))\n",
    "\n",
    "# Constraints\n",
    "model = cp.Model()\n",
    "\n",
    "model += cp.AllDifferent(grid[i, i] for i in range(n))  # Every number in the main diagonal is different\n",
    "model += cp.AllDifferent(grid[i, n - 1 - i] for i in range(50))  # Every number in the secondary diagonal is different\n",
    "\n",
    "# Solve\n",
    "model.solve()\n",
    "```\n",
    "  \n",
    "</details>"
   ]
  },
  {
   "cell_type": "code",
   "execution_count": 25,
   "metadata": {
    "id": "aJfOEvkR5maj"
   },
   "outputs": [
    {
     "name": "stdout",
     "output_type": "stream",
     "text": [
      "39 1 2 3 20 \n",
      "4 5 22 18 16 \n",
      "0 33 6 17 9 \n",
      "12 11 21 8 13 \n",
      "10 15 14 19 7 \n",
      "everything should sum up to 65\n"
     ]
    }
   ],
   "source": [
    "def magic_square(n):\n",
    "    \n",
    "    assert n != 2, \"Magic square is not defined for size 2\"\n",
    "    \n",
    "    \"\"\"\n",
    "    TODO: define the magic sum as a function of n.\n",
    "    Use // operator to get the integer part of a division (div operator).\n",
    "    \"\"\"\n",
    "    magic_sum = n*(n**2+1)// 2  # sum of each row, column and diagonal\n",
    "    \n",
    "    # Decision Variables - TODO\n",
    "    given = np.zeros([n,n])\n",
    "    square = cp.intvar(0, 100000, shape=given.shape, name=\"square\")\n",
    "    \n",
    "    \n",
    "    # Model\n",
    "    model = cp.Model()\n",
    "    \n",
    "    # Constraints\n",
    "    \n",
    "\n",
    "    ##numpy.trace(a, offset=0, axis1=0, axis2=1, dtype=None, out=None)\n",
    "    \n",
    "    \"\"\"\n",
    "    TODO: Fill in the constraints according to the problem description.\n",
    "    \n",
    "    Hints:\n",
    "    1. https://cpmpy.readthedocs.io/en/latest/api/expressions/globalconstraints.html#cpmpy.expressions.globalconstraints.AllDifferent\n",
    "    2. https://cpmpy.readthedocs.io/en/latest/api/expressions/python_builtins.html#cpmpy.expressions.python_builtins.sum\n",
    "    \"\"\"\n",
    "    \n",
    "    # All numbers in the magic square must be different\n",
    "    model.add(cp.AllDifferent(square))\n",
    "    \n",
    "    \n",
    "    # The sum of the numbers in each row must be equal to the magic sum\n",
    "    for ix in range(n):\n",
    "        model.add( (np.sum(square[ix,:])) == magic_sum)\n",
    "    \n",
    "    \n",
    "    # The sum of the numbers in each column must be equal to the magic sum\n",
    "    for ix in range(n):\n",
    "        model.add( (np.sum(square[:,ix])) == magic_sum)\n",
    "    \n",
    "    \n",
    "    # The sum of the numbers in the main diagonal must be equal to the magic sum\n",
    "    model.add( (np.trace(square)) == magic_sum)\n",
    "    \n",
    "    \n",
    "    # The sum of the numbers in the other diagonal must be equal to the magic sum\n",
    "    model.add( (np.trace(np.flipud(square), offset=0, axis1=1, axis2=0)) == magic_sum)\n",
    "    \n",
    "    \n",
    "    # Solve\n",
    "    model.solve()\n",
    "    \n",
    "    # Print solution - TODO\n",
    "    for r in range(n):\n",
    "        for c in range(n):\n",
    "            print(square[r][c].value(), end = \" \")\n",
    "        print()\n",
    "    print( f\"everything should sum up to {magic_sum}\" )\n",
    "\n",
    "\n",
    "# Test\n",
    "magic_square(5)"
   ]
  },
  {
   "cell_type": "markdown",
   "metadata": {
    "id": "4YekhckEdFdr"
   },
   "source": [
    "#### **5. Movie Scheduling**:\n",
    "\n",
    "Consider the following scheduling problem. Imagine you are a highly-in-\n",
    "demand actor, who has been presented with offers to star in n different movie\n",
    "projects under development. Each offer comes specified with the first and last day of filming. To take the job, you must commit to being available throughout this entire period. Thus, you cannot simultaneously accept two jobs whose intervals overlap.\n",
    "For an artist such as yourself, the criteria for job acceptance is clear: you want to make as much money as possible. Because each of these films pays the same fee per film, this implies you seek the largest possible set of jobs (intervals) such that no two of them conflict with each other.\n",
    "\n",
    "Here is the list of movies along with their first and last day of filming:\n",
    "```\n",
    "movies = [  # title, start, end\n",
    "    [\"Tarjan of the Jungle\", 4, 13],\n",
    "    [\"The Four Volume Problem\", 17, 27],\n",
    "    [\"The President's Algorist\", 1, 10],\n",
    "    [\"Steiner's Tree\", 12, 18],\n",
    "    [\"Process Terminated\", 23, 30],\n",
    "    [\"Halting State\", 9, 16],\n",
    "    [\"Programming Challenges\", 19, 25],\n",
    "    [\"Discrete Mathematics\", 2, 7],\n",
    "    [\"Calculated Bets\", 26, 31]\n",
    "]\n",
    "```\n",
    "\n",
    "Which movies would you choose to maximize your income?"
   ]
  },
  {
   "cell_type": "code",
   "execution_count": 26,
   "metadata": {
    "id": "t0s67RLmdIlx"
   },
   "outputs": [
    {
     "name": "stdout",
     "output_type": "stream",
     "text": [
      "['Discrete Mathematics', 2, 7]\n",
      "['Halting State', 9, 16]\n",
      "['Programming Challenges', 19, 25]\n",
      "['Calculated Bets', 26, 31]\n"
     ]
    }
   ],
   "source": [
    "# Decision Variables - TODO\n",
    "\n",
    "movies = [  # title, start, end\n",
    "    [\"Tarjan of the Jungle\", 4, 13],\n",
    "    [\"The Four Volume Problem\", 17, 27],\n",
    "    [\"The President's Algorist\", 1, 10],\n",
    "    [\"Steiner's Tree\", 12, 18],\n",
    "    [\"Process Terminated\", 23, 30],\n",
    "    [\"Halting State\", 9, 16],\n",
    "    [\"Programming Challenges\", 19, 25],\n",
    "    [\"Discrete Mathematics\", 2, 7],\n",
    "    [\"Calculated Bets\", 26, 31]\n",
    "]\n",
    "ms = cp.boolvar(shape=len(movies)) # ms stands for movies selection\n",
    "\n",
    "# Model\n",
    "model = cp.Model()\n",
    "\n",
    "# Constraints - TODO\n",
    "for i in range(ms.size):\n",
    "    for j in range(i+1,ms.size):\n",
    "        model.add( cp.IfThenElse( (ms[i]) & (ms[j]), (movies[i][2] < movies[j][1]) | (movies[i][1] > movies[j][2]), True ) )\n",
    "\n",
    "# Objective - TODO\n",
    "model.maximize(np.sum(ms))\n",
    "\n",
    "# Solve\n",
    "model.solve()\n",
    "\n",
    "# Print solution - TODO\n",
    "# Sorting first\n",
    "optimal_scheduling = []\n",
    "for movie, is_selected in zip(movies, ms):\n",
    "    if is_selected.value():\n",
    "        optimal_scheduling.append(movie)\n",
    "optimal_scheduling = sorted(optimal_scheduling, key = lambda movie: movie[1])\n",
    "for movie in optimal_scheduling:\n",
    "    print(movie)"
   ]
  },
  {
   "cell_type": "markdown",
   "metadata": {
    "id": "omVSO5gYAkM3"
   },
   "source": [
    "#### **6. Robbery**\n",
    "\n",
    "Following a robbery, an inspector interviewed six suspects. The getaway car had been barely big enough to hold two, so she reckoned that at least four of them were innocent. She also supposed that the innocent ones would tell the truth, while the guilty one or ones would lie. What they actually said was:\n",
    "- ARTIE: \"It wasn't me.\"\n",
    "- BILL: \"Crackitt was in it up to his neck.\"\n",
    "- CRACKITT: \"No I wasn't.\"\n",
    "- DODGY: \"If Crackitt did it, Bill did it with him.\"\n",
    "- EDGY: \"Nobody did it alone.\"\n",
    "- FINGERS: \"It was Artie and Dodgy together.\"\n",
    "\n",
    "Who is guilty?"
   ]
  },
  {
   "cell_type": "markdown",
   "metadata": {
    "id": "qSa_3_2nl7MH"
   },
   "source": [
    "<details>\n",
    "  <summary>Click to reveal hint</summary>\n",
    "\n",
    "  **Logic Truth Table:**\n",
    "  \n",
    "  | p     | q     | ¬p   | p ∧ q | p ∨ q | p → q | p ↔ q |\n",
    "  |-------|-------|------|-------|-------|-------|-------|\n",
    "  | True  | True  | False| True  | True  | True  | True  |\n",
    "  | True  | False | False| False | True  | False | False |\n",
    "  | False | True  | True | False | True  | True  | False |\n",
    "  | False | False | True | False | False | True  | True  |\n",
    "\n",
    "  **Explanation of Symbols:**\n",
    "  - ¬p: Negation (NOT p)\n",
    "  - p ∧ q: Conjunction (AND)\n",
    "  - p ∨ q: Disjunction (OR)\n",
    "  - p → q: Implication (If p then q)\n",
    "  - p ↔ q: Biconditional (p if and only if q)\n",
    "\n",
    "</details>"
   ]
  },
  {
   "cell_type": "code",
   "execution_count": 27,
   "metadata": {
    "id": "7cd5OMDL8IH8"
   },
   "outputs": [
    {
     "name": "stdout",
     "output_type": "stream",
     "text": [
      "artie is innocent\n",
      "bill is guilty\n",
      "crackitt is innocent\n",
      "dodgy is innocent\n",
      "edgy is innocent\n",
      "fingers is guilty\n"
     ]
    }
   ],
   "source": [
    "# Decision Variables - TODO\n",
    "\n",
    "names = [\"artie\", \"bill\", \"crackitt\", \"dodgy\", \"edgy\", \"fingers\"]\n",
    "artie, bill, crackitt, dodgy, edgy, fingers = suspects = cp.intvar(0, 1, shape=6)\n",
    "\n",
    "# Model\n",
    "model = cp.Model()\n",
    "\n",
    "# Constraints - TODO\n",
    "model.add(  np.sum(suspects) <= 3)\n",
    "# 0 is not guilty one is guilty\n",
    "model.add( cp.IfThenElse( bill==0, crackitt==1, True ) )\n",
    "model.add( cp.IfThenElse( (dodgy==0) & (crackitt==1), bill==1, True ) )\n",
    "model.add( cp.IfThenElse( edgy==0, (artie + bill + crackitt + dodgy + fingers) >1, True ))\n",
    "model.add( cp.IfThenElse( fingers==0, (artie==1) & (dodgy==1), True ) )\n",
    "\n",
    "\n",
    "# Solve\n",
    "model.solve()\n",
    "\n",
    "# Print solution - TODO\n",
    "for name, suspect in zip(names, suspects):\n",
    "    verdict = \"innocent\" if suspect.value() == 0 else \"guilty\"\n",
    "    print(f\"{name} is {verdict}\")\n"
   ]
  },
  {
   "cell_type": "markdown",
   "metadata": {
    "id": "k3Ti4nFtZ54z"
   },
   "source": [
    "#### **Extra Exercises**\n",
    "\n",
    "> The following exercises are **extra practice** problems. They will **not be covered** during the regular exercise sessions. However, they offer a great opportunity to practice more. You are encouraged to try them at home to challenge yourself further!\n"
   ]
  },
  {
   "cell_type": "markdown",
   "metadata": {
    "id": "jtZTwRk_U_jf"
   },
   "source": [
    "##### **Extra 1: Send More Money**\n",
    "\n",
    "The \"Send More Money\" puzzle is a classic cryptarithmetic problem where each letter represents a unique digit. The goal is to assign digits to the letters such that the following equation holds true:\n",
    "```\n",
    "   SEND\n",
    " + MORE\n",
    " ------\n",
    "  MONEY\n",
    "```\n",
    "Each letter must be assigned a unique digit from 0 to 9, and the first letter of each word cannot be zero. What is the digit assigned to each letter?"
   ]
  },
  {
   "cell_type": "code",
   "execution_count": 28,
   "metadata": {
    "id": "7XWszW91U_Ll"
   },
   "outputs": [
    {
     "name": "stdout",
     "output_type": "stream",
     "text": [
      "   9129\n",
      " + 1081\n",
      "  ------\n",
      "  10210\n"
     ]
    }
   ],
   "source": [
    "# Decision Variables - TODO\n",
    "\n",
    "s,e,n,d,m,o,r,y = dictio = cp.intvar(0, 9, shape=8)\n",
    "\n",
    "\n",
    "# Model\n",
    "model = cp.Model()\n",
    "\n",
    "# Constraints - TODO\n",
    "model.add( (s*1000 + e*100 + n*10+ d + m*1000 + o*100 + r*10 + e) ==\\\n",
    "           (m*10000 + o*1000 + n*100 + e*10 + y) )\n",
    "model.add(s >0)\n",
    "model.add(m >0)\n",
    "\n",
    "\n",
    "# Solve\n",
    "model.solve()\n",
    "\n",
    "# Print solution - TODO\n",
    "decode = lambda code : ''.join([str(x.value()) for x in code])\n",
    "print(f\"   {decode([s,e,n,d])}\")\n",
    "print(f\" + {decode([m,o,r,e])}\")\n",
    "print(\"  ------\")\n",
    "print(f\"  {decode([m,o,n,e,y])}\")\n"
   ]
  },
  {
   "cell_type": "markdown",
   "metadata": {
    "id": "GW2GNlpDTlTK"
   },
   "source": [
    "##### **Extra 2: Minesweeper**\n",
    "\n",
    "Numbers and mines are randomly distributed in a given board.\n",
    "The number on a cell shows the exact number of mines around this cell in all 8 directions: top, top-right, right, bottom-right, bottom, bottom-left, left, top-left.\n",
    "\n",
    "The task is to determine which cells contain mines, the initial board is given below."
   ]
  },
  {
   "cell_type": "markdown",
   "metadata": {
    "id": "7AYiTeJaOWDN"
   },
   "source": [
    "<details>\n",
    "  <summary>Click to reveal hint</summary>\n",
    "\n",
    "```\n",
    "\"\"\"\n",
    "An example to show how to find neighbors (top, right, bottom, left) of a cell in a grid.\n",
    "\"\"\"\n",
    "\n",
    "n = 4  # 4x4 grid\n",
    "grid = cp.boolvar(shape=(n, n))\n",
    "\n",
    "model = cp.Model()\n",
    "\n",
    "for i in range(n):\n",
    "    for j in range(n):\n",
    "        # Collect neighbors for each cell\n",
    "        neighbors = []\n",
    "        for a, b in [(0, 1), (0, -1), (1, 0), (-1, 0)]:\n",
    "            if 0 <= i + a < n and 0 <= j + b < n:\n",
    "                neighbors.append(grid[i + a, j + b])\n",
    "\n",
    "        print(f\"Neighbors of cell {grid[i, j]}: {neighbors}\")\n",
    "\n",
    "print(\"The grid:\")\n",
    "print(grid)\n",
    "```\n",
    "\n",
    "</details>"
   ]
  },
  {
   "cell_type": "code",
   "execution_count": 75,
   "metadata": {
    "id": "S1XzA3lHYnAO"
   },
   "outputs": [
    {
     "name": "stdout",
     "output_type": "stream",
     "text": [
      "[[ 2  3 -1  2  2 -1  2  1]\n",
      " [-1 -1  4 -1 -1  4 -1  2]\n",
      " [-1 -1 -1 -1 -1 -1  4 -1]\n",
      " [-1  5 -1  6 -1 -1 -1  2]\n",
      " [ 2 -1 -1 -1  5  5 -1  2]\n",
      " [ 1  3  4 -1 -1 -1  4 -1]\n",
      " [ 0  1 -1  4 -1 -1 -1  3]\n",
      " [ 0  1  2 -1  2  3 -1  2]]\n",
      "[[0 0 1 0 0 1 0 0]\n",
      " [1 1 0 0 1 0 1 0]\n",
      " [0 0 1 1 1 0 0 1]\n",
      " [1 0 1 0 1 1 1 0]\n",
      " [0 1 1 0 0 0 0 0]\n",
      " [0 0 0 1 1 1 0 1]\n",
      " [0 0 1 0 0 1 1 0]\n",
      " [0 0 0 1 0 0 1 0]]\n"
     ]
    }
   ],
   "source": [
    "# Data\n",
    "X = -1\n",
    "given = np.array([  # 0-8: number of mines around, -1: not opened\n",
    "    [2, 3, X, 2, 2, X, 2, 1],\n",
    "    [X, X, 4, X, X, 4, X, 2],\n",
    "    [X, X, X, X, X, X, 4, X],\n",
    "    [X, 5, X, 6, X, X, X, 2],\n",
    "    [2, X, X, X, 5, 5, X, 2],\n",
    "    [1, 3, 4, X, X, X, 4, X],\n",
    "    [0, 1, X, 4, X, X, X, 3],\n",
    "    [0, 1, 2, X, 2, 3, X, 2]\n",
    "])\n",
    "rows, cols = game.shape\n",
    "\n",
    "\n",
    "# Decision Variables - TODO\n",
    "game = cp.intvar(0, 1, shape=given.shape, name=\"game\")\n",
    "\n",
    "# Model\n",
    "model = cp.Model()\n",
    "\n",
    "model += (game[given!=X] == 0) # numpy's indexing\n",
    "\n",
    "# Constraints - TODO\n",
    "for r in range(8):\n",
    "    for c in range(8):\n",
    "        if given[r][c] != X:\n",
    "            neighbors = [(r-1,c), (r+1,c), (r,c-1), (r,c+1), (r-1,c-1), (r-1,c+1), (r+1,c-1), (r+1,c+1)]\n",
    "            valid_neighbors = []\n",
    "            for x, y in neighbors:\n",
    "                if x>=0 and x<8 and y>=0 and y<8:\n",
    "                    valid_neighbors.append(game[x,y])\n",
    "            model.add(\n",
    "                sum(valid_neighbors)==(given[r][c])\n",
    "            )\n",
    "                    \n",
    "                \n",
    "\n",
    "# Solve\n",
    "model.solve()\n",
    "\n",
    "# Print solution - TODO\n",
    "print(given)\n",
    "print(game.value())"
   ]
  },
  {
   "cell_type": "code",
   "execution_count": 43,
   "metadata": {},
   "outputs": [
    {
     "name": "stdout",
     "output_type": "stream",
     "text": [
      "[2 3 2 2 2 1 4 4 2 4 5 6 2 2 5 5 2 1 3 4 4 0 1 4 3 0 1 2 2 3 2]\n"
     ]
    }
   ],
   "source": [
    "print( given[given!=X])"
   ]
  },
  {
   "cell_type": "code",
   "execution_count": null,
   "metadata": {},
   "outputs": [],
   "source": []
  }
 ],
 "metadata": {
  "colab": {
   "collapsed_sections": [
    "VopstlxXz0pW",
    "4DTL7joVvEPY",
    "k3Ti4nFtZ54z",
    "jtZTwRk_U_jf",
    "GW2GNlpDTlTK"
   ],
   "provenance": [],
   "toc_visible": true
  },
  "kernelspec": {
   "display_name": "Python 3 (ipykernel)",
   "language": "python",
   "name": "python3"
  },
  "language_info": {
   "codemirror_mode": {
    "name": "ipython",
    "version": 3
   },
   "file_extension": ".py",
   "mimetype": "text/x-python",
   "name": "python",
   "nbconvert_exporter": "python",
   "pygments_lexer": "ipython3",
   "version": "3.9.6"
  }
 },
 "nbformat": 4,
 "nbformat_minor": 4
}
